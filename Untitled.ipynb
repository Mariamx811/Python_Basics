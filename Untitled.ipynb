{
 "cells": [
  {
   "cell_type": "markdown",
   "id": "dd2aae96-e9ef-4755-8704-09524f618d37",
   "metadata": {
    "jp-MarkdownHeadingCollapsed": true
   },
   "source": [
    "<h1>Int,Float,String</h1>"
   ]
  },
  {
   "cell_type": "code",
   "execution_count": 10,
   "id": "3f511891-064b-4cfe-a5c3-73aecefb3e67",
   "metadata": {},
   "outputs": [
    {
     "data": {
      "text/plain": [
       "int"
      ]
     },
     "execution_count": 10,
     "metadata": {},
     "output_type": "execute_result"
    }
   ],
   "source": [
    "type(12)"
   ]
  },
  {
   "cell_type": "code",
   "execution_count": 11,
   "id": "5ab4d68d-ec01-4367-9bc8-dfeb05607575",
   "metadata": {},
   "outputs": [
    {
     "data": {
      "text/plain": [
       "float"
      ]
     },
     "execution_count": 11,
     "metadata": {},
     "output_type": "execute_result"
    }
   ],
   "source": [
    "type(12.5)"
   ]
  },
  {
   "cell_type": "code",
   "execution_count": 12,
   "id": "9a94c8b3-a0c5-40cb-8a49-1790f7e4c027",
   "metadata": {},
   "outputs": [
    {
     "data": {
      "text/plain": [
       "int"
      ]
     },
     "execution_count": 12,
     "metadata": {},
     "output_type": "execute_result"
    }
   ],
   "source": [
    "type(12 + 12)"
   ]
  },
  {
   "cell_type": "code",
   "execution_count": 13,
   "id": "415dead1-ebe2-49ee-b91a-dd3c4c59b849",
   "metadata": {},
   "outputs": [
    {
     "data": {
      "text/plain": [
       "float"
      ]
     },
     "execution_count": 13,
     "metadata": {},
     "output_type": "execute_result"
    }
   ],
   "source": [
    "type(12 + 1.5)"
   ]
  },
  {
   "cell_type": "code",
   "execution_count": 14,
   "id": "0dc05741-8940-480c-8959-57f25a4d95b3",
   "metadata": {},
   "outputs": [
    {
     "data": {
      "text/plain": [
       "str"
      ]
     },
     "execution_count": 14,
     "metadata": {},
     "output_type": "execute_result"
    }
   ],
   "source": [
    "type(\"HIIII\")"
   ]
  },
  {
   "cell_type": "code",
   "execution_count": 15,
   "id": "cbd5cf1b-d699-435e-b633-6ca899095db1",
   "metadata": {},
   "outputs": [
    {
     "name": "stdout",
     "output_type": "stream",
     "text": [
      "Hello\n",
      "hello\n"
     ]
    }
   ],
   "source": [
    "print(\"Hello\")\n",
    "print('hello')"
   ]
  },
  {
   "cell_type": "code",
   "execution_count": 16,
   "id": "7f8359f8-109b-4fff-a0a6-5aab8530d48c",
   "metadata": {},
   "outputs": [
    {
     "name": "stdout",
     "output_type": "stream",
     "text": [
      "Pra\n",
      "e\n"
     ]
    }
   ],
   "source": [
    "#String Slicing\n",
    "word = \"Practice\"\n",
    "print(word[:3])\n",
    "print(word[-1])"
   ]
  },
  {
   "cell_type": "code",
   "execution_count": 17,
   "id": "c649e816-65a7-4746-9bd2-6512b2b573ef",
   "metadata": {},
   "outputs": [
    {
     "name": "stdout",
     "output_type": "stream",
     "text": [
      "Practice time\n"
     ]
    }
   ],
   "source": [
    "#string concat.\n",
    "word2 = \"time\"\n",
    "print(word + \" \" + word2)"
   ]
  },
  {
   "cell_type": "markdown",
   "id": "5b13411c-8baf-4c60-b856-2e68bb45e179",
   "metadata": {
    "jp-MarkdownHeadingCollapsed": true
   },
   "source": [
    "<h1>If Else</h1>"
   ]
  },
  {
   "cell_type": "code",
   "execution_count": 19,
   "id": "f8c39f8e-889f-4a85-a1bc-c69bd825f426",
   "metadata": {},
   "outputs": [
    {
     "name": "stdout",
     "output_type": "stream",
     "text": [
      "Enter first Number100\n",
      "Enter second number80\n",
      "First number is bigger!\n"
     ]
    }
   ],
   "source": [
    "x = int(input(\"Enter first Number\"))\n",
    "y = int(input(\"Enter second number\"))\n",
    "\n",
    "if x > y:\n",
    "    print(\"First number is bigger!\")\n",
    "elif x < y:\n",
    "    print(\"Second number is bigger!\")\n",
    "else:\n",
    "    print(\"They are equal!\")"
   ]
  },
  {
   "cell_type": "markdown",
   "id": "a34d104a-9cd3-4ab0-8a80-3e81e834b813",
   "metadata": {
    "jp-MarkdownHeadingCollapsed": true
   },
   "source": [
    "<h1>Loops</h1>"
   ]
  },
  {
   "cell_type": "markdown",
   "id": "9092b7b1-3a70-4a61-a122-e0dce72f86fb",
   "metadata": {
    "jp-MarkdownHeadingCollapsed": true
   },
   "source": [
    "<h2>1- For Loop</h2>"
   ]
  },
  {
   "cell_type": "code",
   "execution_count": 20,
   "id": "be4fd9e3-4f81-4218-8260-9c68af956b7e",
   "metadata": {},
   "outputs": [
    {
     "name": "stdout",
     "output_type": "stream",
     "text": [
      "no: 1\n",
      "no: 3\n",
      "no: 4\n",
      "no: 5\n",
      "no: 6\n",
      "no: 7\n",
      "no: 8\n",
      "no: 9\n"
     ]
    }
   ],
   "source": [
    "for i in range(1,10):\n",
    "    if i == 2:\n",
    "        continue\n",
    "    print(\"no:\" , i)"
   ]
  },
  {
   "cell_type": "code",
   "execution_count": 21,
   "id": "5963d084-c2e3-4658-9f33-fb6332919334",
   "metadata": {},
   "outputs": [
    {
     "name": "stdout",
     "output_type": "stream",
     "text": [
      "A\n",
      "B\n",
      "C\n"
     ]
    }
   ],
   "source": [
    "list_ = [\"A\",\"B\",\"C\"]\n",
    "for i in list_:\n",
    "    print(i)"
   ]
  },
  {
   "cell_type": "markdown",
   "id": "58d7337f-7f87-459d-99ea-090b6bb23b78",
   "metadata": {
    "jp-MarkdownHeadingCollapsed": true
   },
   "source": [
    "<h2>2- While Loop</h2>"
   ]
  },
  {
   "cell_type": "code",
   "execution_count": 22,
   "id": "50ae3989-a731-4d75-8686-d91c28687897",
   "metadata": {},
   "outputs": [
    {
     "name": "stdout",
     "output_type": "stream",
     "text": [
      "1\n",
      "2\n",
      "4\n",
      "5\n",
      "The Condition wasn't met!\n"
     ]
    }
   ],
   "source": [
    "i = 0\n",
    "while i < 5:\n",
    "    i += 1\n",
    "    if i == 3:\n",
    "        continue\n",
    "    print(i)\n",
    "else:\n",
    "    print(\"The Condition wasn't met!\")"
   ]
  },
  {
   "cell_type": "markdown",
   "id": "6ad42549-6a7e-4acc-8219-a50335481eac",
   "metadata": {
    "jp-MarkdownHeadingCollapsed": true
   },
   "source": [
    "<h1>Data Structures in Python</h1>"
   ]
  },
  {
   "cell_type": "markdown",
   "id": "e65202b0-f73b-42b2-a844-3330e424f587",
   "metadata": {
    "jp-MarkdownHeadingCollapsed": true
   },
   "source": [
    "<h2>1- List</h2>"
   ]
  },
  {
   "cell_type": "code",
   "execution_count": 23,
   "id": "dcde9c8a-abc9-445f-b209-57e4779b8199",
   "metadata": {},
   "outputs": [
    {
     "name": "stdout",
     "output_type": "stream",
     "text": [
      "<class 'list'>\n",
      "['OOP', 'Algo', 'DB', 'OOP']\n"
     ]
    }
   ],
   "source": [
    "#Making a List\n",
    "subjects = [\"OOP\",\"Algo\",\"DB\",\"OOP\"]\n",
    "print(type(subjects))\n",
    "print(subjects)"
   ]
  },
  {
   "cell_type": "code",
   "execution_count": 24,
   "id": "3e15adef-dcc5-4643-963a-04f1ff67d09f",
   "metadata": {},
   "outputs": [
    {
     "name": "stdout",
     "output_type": "stream",
     "text": [
      "['OOP', 'Deep Learning', 'DB', 'OOP']\n"
     ]
    }
   ],
   "source": [
    "#Editing the list\n",
    "subjects[1] = \"Deep Learning\"\n",
    "print(subjects)"
   ]
  },
  {
   "cell_type": "code",
   "execution_count": 25,
   "id": "829c6c6a-d77e-4d1f-9b1c-6e11ceeee32d",
   "metadata": {},
   "outputs": [
    {
     "name": "stdout",
     "output_type": "stream",
     "text": [
      "['OOP', 'Deep Learning', 'DB', 'OOP', 'Data Science']\n",
      "['OOP', 'ML', 'Deep Learning', 'DB', 'OOP', 'Data Science']\n"
     ]
    }
   ],
   "source": [
    "#Adding to a list\n",
    "subjects.append(\"Data Science\")\n",
    "print(subjects)\n",
    "subjects.insert(1,\"ML\")\n",
    "print(subjects)"
   ]
  },
  {
   "cell_type": "code",
   "execution_count": 26,
   "id": "437d1824-6a05-42ce-abaa-41b7a2d482c6",
   "metadata": {},
   "outputs": [
    {
     "name": "stdout",
     "output_type": "stream",
     "text": [
      "['ML', 'Deep Learning', 'DB', 'OOP', 'Data Science']\n",
      "['ML', 'Deep Learning', 'DB', 'OOP']\n",
      "['ML', 'DB', 'OOP']\n"
     ]
    }
   ],
   "source": [
    "#Removing from a list\n",
    "subjects.remove(\"OOP\")\n",
    "print(subjects)\n",
    "subjects.pop()\n",
    "print(subjects)\n",
    "subjects.pop(1)\n",
    "print(subjects)"
   ]
  },
  {
   "cell_type": "code",
   "execution_count": 27,
   "id": "47a0b07c-cc4a-4253-a639-f07a660c8e31",
   "metadata": {},
   "outputs": [
    {
     "name": "stdout",
     "output_type": "stream",
     "text": [
      "['DB', 'ML', 'OOP']\n",
      "['OOP', 'ML', 'DB']\n"
     ]
    }
   ],
   "source": [
    "#Sorting\n",
    "subjects.sort()\n",
    "print(subjects)\n",
    "subjects.sort(reverse=True)\n",
    "print(subjects)"
   ]
  },
  {
   "cell_type": "code",
   "execution_count": 28,
   "id": "0ebeb400-6931-4bdb-a53b-93a9bca5742e",
   "metadata": {},
   "outputs": [
    {
     "name": "stdout",
     "output_type": "stream",
     "text": [
      "[2, 4, 6, 8]\n"
     ]
    }
   ],
   "source": [
    "#List Comprehensions\n",
    "numbers = [1,2,3,4]\n",
    "numbers_by_two = [ num * 2 for num in numbers]\n",
    "print(numbers_by_two)"
   ]
  },
  {
   "cell_type": "markdown",
   "id": "98ea6310-fa80-4e55-bc80-dac88e04a3db",
   "metadata": {
    "jp-MarkdownHeadingCollapsed": true
   },
   "source": [
    "<h2>2- Set</h2>"
   ]
  },
  {
   "cell_type": "code",
   "execution_count": 29,
   "id": "19aad279-9b20-4db9-8829-da8d9f6eb793",
   "metadata": {},
   "outputs": [
    {
     "name": "stdout",
     "output_type": "stream",
     "text": [
      "<class 'set'>\n",
      "{'OOP', 'DB', 'Algo'}\n"
     ]
    }
   ],
   "source": [
    "#Making a set \n",
    "subject_set = {\"OOP\",\"Algo\",\"DB\",\"OOP\"}\n",
    "print(type(subject_set))\n",
    "print(subject_set)"
   ]
  },
  {
   "cell_type": "code",
   "execution_count": 30,
   "id": "64eb059c-5e9a-40f9-a219-5828f33b1733",
   "metadata": {},
   "outputs": [
    {
     "name": "stdout",
     "output_type": "stream",
     "text": [
      "{1, 'OOP', 'DB', 'Algo'}\n",
      "{1, 'OOP', 'DB', 'Algo'}\n"
     ]
    }
   ],
   "source": [
    "#Editing set\n",
    "subject_set.add(1)\n",
    "print(subject_set)\n",
    "subject_set.add(\"Algo\")\n",
    "print(subject_set)"
   ]
  },
  {
   "cell_type": "code",
   "execution_count": 31,
   "id": "12903a46-66df-4d25-81db-ce944c6d1ee1",
   "metadata": {},
   "outputs": [
    {
     "name": "stdout",
     "output_type": "stream",
     "text": [
      "{'OOP', 'DB', 'Algo'}\n"
     ]
    }
   ],
   "source": [
    "#Removing from a set\n",
    "subject_set.remove(1)\n",
    "print(subject_set)"
   ]
  },
  {
   "cell_type": "code",
   "execution_count": 41,
   "id": "3be6d4e4",
   "metadata": {},
   "outputs": [
    {
     "name": "stdout",
     "output_type": "stream",
     "text": [
      "{2, 3}\n",
      "{1}\n",
      "{1, 2, 3, 4, 5}\n"
     ]
    }
   ],
   "source": [
    "#Sets Operations\n",
    "set1 = {1,2,3}\n",
    "set2 = {1,4,5}\n",
    "print(set1.difference(set2))\n",
    "print(set1.intersection(set2))\n",
    "print(set1.union(set2))"
   ]
  },
  {
   "cell_type": "markdown",
   "id": "51d99d4e-4b33-4f82-813e-4260bde5c748",
   "metadata": {
    "jp-MarkdownHeadingCollapsed": true
   },
   "source": [
    "<h2>3- Tuple</h2>"
   ]
  },
  {
   "cell_type": "code",
   "execution_count": 32,
   "id": "e09fa982-9c4f-4266-9c59-4297f0a74f50",
   "metadata": {},
   "outputs": [
    {
     "name": "stdout",
     "output_type": "stream",
     "text": [
      "<class 'tuple'>\n",
      "('OOP', 'Algo', 'DB', 'OOP', [1, 2, 3])\n"
     ]
    }
   ],
   "source": [
    "#Making a Tuple\n",
    "sub_tuple = (\"OOP\",\"Algo\",\"DB\",\"OOP\",[1,2,3])\n",
    "print(type(sub_tuple))\n",
    "print(sub_tuple)"
   ]
  },
  {
   "cell_type": "code",
   "execution_count": 33,
   "id": "3c239e12-116c-4dbb-894b-c2b2f6efa5a4",
   "metadata": {},
   "outputs": [
    {
     "name": "stdout",
     "output_type": "stream",
     "text": [
      "('OOP', 'Algo', 'DB', 'OOP', [1, 2, 3, 'hi'])\n"
     ]
    }
   ],
   "source": [
    "sub_tuple[4].append(\"hi\")\n",
    "print(sub_tuple)"
   ]
  },
  {
   "cell_type": "code",
   "execution_count": 34,
   "id": "b1909e57-7d0f-469d-8a13-d034ad3e00a7",
   "metadata": {},
   "outputs": [
    {
     "name": "stdout",
     "output_type": "stream",
     "text": [
      "1\n",
      "2\n"
     ]
    }
   ],
   "source": [
    "#Unpacking a Tuple \n",
    "tuple_ = (1,2)\n",
    "num1, num2 = tuple_\n",
    "print(num1)\n",
    "print(num2)"
   ]
  },
  {
   "cell_type": "markdown",
   "id": "59a1e356-d39c-4f27-a7ce-a495bcdd0973",
   "metadata": {
    "jp-MarkdownHeadingCollapsed": true
   },
   "source": [
    "<h1>Functions</h1>"
   ]
  },
  {
   "cell_type": "code",
   "execution_count": 35,
   "id": "2a3fb6da-2e7c-4ba3-8ef0-3e7a0ada8583",
   "metadata": {},
   "outputs": [
    {
     "name": "stdout",
     "output_type": "stream",
     "text": [
      "hello\n"
     ]
    }
   ],
   "source": [
    "def print_():\n",
    "    print(\"hello\")\n",
    "print_()"
   ]
  },
  {
   "cell_type": "code",
   "execution_count": 36,
   "id": "9fca177b-3d1d-4185-992a-4996d31f16e3",
   "metadata": {},
   "outputs": [
    {
     "name": "stdout",
     "output_type": "stream",
     "text": [
      "3\n"
     ]
    }
   ],
   "source": [
    "def add_nums(num1,num2):\n",
    "    print(num1 + num2)\n",
    "\n",
    "add_nums(1,2)"
   ]
  },
  {
   "cell_type": "code",
   "execution_count": 37,
   "id": "a8342ac9-053b-4227-bb82-48ca8b3dc2ab",
   "metadata": {},
   "outputs": [
    {
     "name": "stdout",
     "output_type": "stream",
     "text": [
      "5\n"
     ]
    }
   ],
   "source": [
    "def func(*args):\n",
    "    print(args[1] + args[2])\n",
    "func(1,2,3,4)"
   ]
  },
  {
   "cell_type": "code",
   "execution_count": 38,
   "id": "6873dd5c-1a0f-450b-b43b-589a97b26d97",
   "metadata": {},
   "outputs": [
    {
     "name": "stdout",
     "output_type": "stream",
     "text": [
      "1\n",
      "2\n",
      "3\n",
      "4\n"
     ]
    }
   ],
   "source": [
    "def func(*args):\n",
    "    for num in args:\n",
    "        print(num)\n",
    "func(1,2,3,4)"
   ]
  },
  {
   "cell_type": "code",
   "execution_count": 39,
   "id": "21efdef4-54c4-4078-a9ee-2bd72dea0c5d",
   "metadata": {},
   "outputs": [
    {
     "name": "stdout",
     "output_type": "stream",
     "text": [
      "9\n"
     ]
    }
   ],
   "source": [
    "def function(**keyargs):\n",
    "    print(keyargs[\"num1\"] ** keyargs[\"num2\"])\n",
    "function(num2 = 2, num1 = 3, num4= 4)"
   ]
  },
  {
   "cell_type": "markdown",
   "id": "373014a0",
   "metadata": {},
   "source": [
    "<h1>Mini Calculator</h1>"
   ]
  },
  {
   "cell_type": "code",
   "execution_count": 9,
   "id": "c17855de",
   "metadata": {},
   "outputs": [
    {
     "name": "stdout",
     "output_type": "stream",
     "text": [
      "Enter 1st number: 5\n",
      "Enter Sign: +\n",
      "Enter 2nd number: 2\n",
      "7\n",
      "Want to try again ? [y,n]y\n",
      "Enter 1st number: 4\n",
      "Enter Sign: f\n",
      "Enter 2nd number: 2\n",
      "Enter a valid sign\n",
      "Want to try again ? [y,n]n\n"
     ]
    }
   ],
   "source": [
    "def calc():\n",
    "    while(True):\n",
    "        num1 = int(input(\"Enter 1st number: \"))\n",
    "        sign = input(\"Enter Sign: \")\n",
    "        num2 = int(input(\"Enter 2nd number: \"))\n",
    "        \n",
    "        if(sign == \"+\"):\n",
    "            print(num1+num2)\n",
    "        elif(sign == \"-\"):\n",
    "            print(num1-num2)\n",
    "        elif(sign == \"*\"):\n",
    "            print(num1*num2)\n",
    "        elif(sign == \"/\"):\n",
    "            print(num1/num2)\n",
    "        else:\n",
    "            print(\"Enter a valid sign\")\n",
    "        \n",
    "        ans = input(\"Want to try again ? [y,n] \")\n",
    "        if ans == \"y\" or ans == \"Y\":\n",
    "            continue\n",
    "        else:\n",
    "            break\n",
    "\n",
    "calc()\n",
    "        "
   ]
  },
  {
   "cell_type": "code",
   "execution_count": null,
   "id": "27101e9d",
   "metadata": {},
   "outputs": [],
   "source": []
  }
 ],
 "metadata": {
  "kernelspec": {
   "display_name": "Python 3 (ipykernel)",
   "language": "python",
   "name": "python3"
  },
  "language_info": {
   "codemirror_mode": {
    "name": "ipython",
    "version": 3
   },
   "file_extension": ".py",
   "mimetype": "text/x-python",
   "name": "python",
   "nbconvert_exporter": "python",
   "pygments_lexer": "ipython3",
   "version": "3.11.9"
  }
 },
 "nbformat": 4,
 "nbformat_minor": 5
}
